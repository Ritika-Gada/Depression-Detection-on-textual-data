{
 "cells": [
  {
   "cell_type": "code",
   "execution_count": 1,
   "id": "3bf0ea5a",
   "metadata": {},
   "outputs": [],
   "source": [
    "import pandas as pd\n",
    "from sklearn.model_selection import train_test_split\n",
    "from sklearn.feature_extraction.text import TfidfVectorizer\n",
    "from sklearn.ensemble import RandomForestClassifier, GradientBoostingClassifier\n",
    "from sklearn.svm import SVC\n",
    "from sklearn.linear_model import LogisticRegression\n",
    "from sklearn.metrics import accuracy_score\n",
    "from sklearn.ensemble import StackingClassifier"
   ]
  },
  {
   "cell_type": "code",
   "execution_count": 2,
   "id": "a56bf993",
   "metadata": {},
   "outputs": [
    {
     "data": {
      "text/html": [
       "<div>\n",
       "<style scoped>\n",
       "    .dataframe tbody tr th:only-of-type {\n",
       "        vertical-align: middle;\n",
       "    }\n",
       "\n",
       "    .dataframe tbody tr th {\n",
       "        vertical-align: top;\n",
       "    }\n",
       "\n",
       "    .dataframe thead th {\n",
       "        text-align: right;\n",
       "    }\n",
       "</style>\n",
       "<table border=\"1\" class=\"dataframe\">\n",
       "  <thead>\n",
       "    <tr style=\"text-align: right;\">\n",
       "      <th></th>\n",
       "      <th>Message</th>\n",
       "      <th>Type</th>\n",
       "    </tr>\n",
       "  </thead>\n",
       "  <tbody>\n",
       "    <tr>\n",
       "      <th>0</th>\n",
       "      <td>we understand that most people who reply immed...</td>\n",
       "      <td>1</td>\n",
       "    </tr>\n",
       "    <tr>\n",
       "      <th>1</th>\n",
       "      <td>welcome to r depression s check in post a plac...</td>\n",
       "      <td>1</td>\n",
       "    </tr>\n",
       "    <tr>\n",
       "      <th>2</th>\n",
       "      <td>anyone else instead of sleeping more when depr...</td>\n",
       "      <td>1</td>\n",
       "    </tr>\n",
       "    <tr>\n",
       "      <th>3</th>\n",
       "      <td>i ve kind of stuffed around a lot in my life d...</td>\n",
       "      <td>1</td>\n",
       "    </tr>\n",
       "    <tr>\n",
       "      <th>4</th>\n",
       "      <td>sleep is my greatest and most comforting escap...</td>\n",
       "      <td>1</td>\n",
       "    </tr>\n",
       "  </tbody>\n",
       "</table>\n",
       "</div>"
      ],
      "text/plain": [
       "                                             Message  Type\n",
       "0  we understand that most people who reply immed...     1\n",
       "1  welcome to r depression s check in post a plac...     1\n",
       "2  anyone else instead of sleeping more when depr...     1\n",
       "3  i ve kind of stuffed around a lot in my life d...     1\n",
       "4  sleep is my greatest and most comforting escap...     1"
      ]
     },
     "execution_count": 2,
     "metadata": {},
     "output_type": "execute_result"
    }
   ],
   "source": [
    "data = pd.read_csv('depression_dataset_reddit_cleaned.csv')\n",
    "X = data['Message']\n",
    "y = data['Type']\n",
    "data.head()"
   ]
  },
  {
   "cell_type": "code",
   "execution_count": 3,
   "id": "edb48172",
   "metadata": {},
   "outputs": [],
   "source": [
    "X_train, X_test, y_train, y_test = train_test_split(X, y, test_size=0.2, random_state=42)"
   ]
  },
  {
   "cell_type": "code",
   "execution_count": 4,
   "id": "d7f3a1e6",
   "metadata": {},
   "outputs": [],
   "source": [
    "tfidf_vectorizer = TfidfVectorizer(max_features=1000)\n",
    "X_train_tfidf = tfidf_vectorizer.fit_transform(X_train)\n",
    "X_test_tfidf = tfidf_vectorizer.transform(X_test)"
   ]
  },
  {
   "cell_type": "code",
   "execution_count": 5,
   "id": "c87c7977",
   "metadata": {},
   "outputs": [],
   "source": [
    "base_models = [\n",
    "    ('Random Forest', RandomForestClassifier(n_estimators=100, random_state=42)),\n",
    "    ('Gradient Boosting', GradientBoostingClassifier(n_estimators=100, random_state=42)),\n",
    "    ('SVM', SVC(kernel='linear', C=1.0, random_state=42))\n",
    "]"
   ]
  },
  {
   "cell_type": "code",
   "execution_count": 6,
   "id": "7e3c5c0c",
   "metadata": {},
   "outputs": [
    {
     "name": "stdout",
     "output_type": "stream",
     "text": [
      "Accuracy of Random Forest: 0.9573367808661927\n",
      "Accuracy of Gradient Boosting: 0.9508726567550096\n",
      "Accuracy of SVM: 0.9592760180995475\n"
     ]
    }
   ],
   "source": [
    "for name, model in base_models:\n",
    "    model.fit(X_train_tfidf, y_train)\n",
    "    y_pred = model.predict(X_test_tfidf)\n",
    "    accuracy = accuracy_score(y_test, y_pred)\n",
    "    print(f\"Accuracy of {name}: {accuracy}\")"
   ]
  },
  {
   "cell_type": "code",
   "execution_count": 7,
   "id": "856d42bc",
   "metadata": {},
   "outputs": [
    {
     "data": {
      "text/plain": [
       "StackingClassifier(estimators=[('Random Forest',\n",
       "                                RandomForestClassifier(random_state=42)),\n",
       "                               ('Gradient Boosting',\n",
       "                                GradientBoostingClassifier(random_state=42)),\n",
       "                               ('SVM',\n",
       "                                SVC(kernel='linear', probability=True,\n",
       "                                    random_state=42))],\n",
       "                   final_estimator=LogisticRegression())"
      ]
     },
     "execution_count": 7,
     "metadata": {},
     "output_type": "execute_result"
    }
   ],
   "source": [
    "meta_model = LogisticRegression()\n",
    "stacked_model = StackingClassifier(estimators=base_models, final_estimator=meta_model)\n",
    "stacked_model.fit(X_train_tfidf, y_train)"
   ]
  },
  {
   "cell_type": "code",
   "execution_count": 8,
   "id": "118bdc47",
   "metadata": {},
   "outputs": [
    {
     "name": "stdout",
     "output_type": "stream",
     "text": [
      "Accuracy of Stacked Model: 0.9657401422107305\n"
     ]
    }
   ],
   "source": [
    "y_pred_stacked = stacked_model.predict(X_test_tfidf)\n",
    "accuracy_stacked = accuracy_score(y_test, y_pred_stacked)\n",
    "print(f\"Accuracy of Stacked Model: {accuracy_stacked}\")"
   ]
  },
  {
   "cell_type": "code",
   "execution_count": 9,
   "id": "54b28bb6",
   "metadata": {},
   "outputs": [
    {
     "name": "stdout",
     "output_type": "stream",
     "text": [
      "Enter a message or 'exit' to quit: i have never felt this low and that is why i want to kick the bucket\n",
      "Normal Text\n",
      "\n",
      "Enter a message or 'exit' to quit: i sometimes feel like none of this makes any sense\n",
      "Normal Text\n",
      "\n",
      "Enter a message or 'exit' to quit: i want to die\n",
      "Depressed\n",
      "\n",
      "Enter a message or 'exit' to quit: i killed a man\n",
      "Normal Text\n",
      "\n",
      "Enter a message or 'exit' to quit: i hate how i feel about myself. sometimes i wish i could end all the pain\n",
      "Depressed\n",
      "\n",
      "Enter a message or 'exit' to quit: sometimes i feel so shitty about how people make me feel\n",
      "Depressed\n",
      "\n",
      "Enter a message or 'exit' to quit: i wonder if my life has any purpose\n",
      "Normal Text\n",
      "\n",
      "Enter a message or 'exit' to quit: my does not have any purpose and thats why i should end it\n",
      "Normal Text\n",
      "\n",
      "Enter a message or 'exit' to quit: people don't care about me like i care about them and that makes me feel shitty\n",
      "Depressed\n",
      "\n",
      "Enter a message or 'exit' to quit: i dont feel that hungry \n",
      "Normal Text\n",
      "\n",
      "Enter a message or 'exit' to quit: \n",
      "Normal Text\n",
      "\n",
      "Enter a message or 'exit' to quit: i lost my friend in car accident \n",
      "Normal Text\n",
      "\n",
      "Enter a message or 'exit' to quit: i lost my friend in train accident and i dont have any friend now \n",
      "Normal Text\n",
      "\n",
      "Enter a message or 'exit' to quit: i like to be alone and not to talk with anyone else\n",
      "Depressed\n",
      "\n",
      "Enter a message or 'exit' to quit: I won the match\n",
      "Normal Text\n",
      "\n",
      "Enter a message or 'exit' to quit: she dumnped me\n",
      "Normal Text\n",
      "\n",
      "Enter a message or 'exit' to quit: he commited sucide\n",
      "Normal Text\n",
      "\n",
      "Enter a message or 'exit' to quit: I feel lonely even when I am surrounded by people\n",
      "Normal Text\n",
      "\n",
      "Enter a message or 'exit' to quit: i am tired of pretending to be happy even when i am not\n",
      "Normal Text\n",
      "\n",
      "Enter a message or 'exit' to quit: i am tired of pretending to be happy even when i am not, I feel lonely even when I am surrounded by people\n",
      "Depressed\n",
      "\n",
      "Enter a message or 'exit' to quit: my best friend betrayed me and i cannot trust anyone ever again\n",
      "Normal Text\n",
      "\n",
      "Enter a message or 'exit' to quit: i am going away for a trip. i cannot wait to leave this shitty country. i cannot be happier\n",
      "Normal Text\n",
      "\n",
      "Enter a message or 'exit' to quit: my best friend was killed and now i want to die too\n",
      "Depressed\n",
      "\n",
      "Enter a message or 'exit' to quit: my best friend is a mass murderer and i feel like my whole life was a lie\n",
      "Depressed\n",
      "\n",
      "Enter a message or 'exit' to quit: exit\n"
     ]
    }
   ],
   "source": [
    "while True:\n",
    "    user_input = input(\"Enter a message or 'exit' to quit: \")\n",
    "    if user_input.lower() == 'exit':\n",
    "        break\n",
    "    user_input_tfidf = tfidf_vectorizer.transform([user_input])\n",
    "    prediction = stacked_model.predict(user_input_tfidf)\n",
    "    if prediction[0] == 1:\n",
    "        print(\"Depressed\")\n",
    "        print(\"\")\n",
    "    else:\n",
    "        print(\"Normal Text\")\n",
    "        print(\"\")"
   ]
  },
  {
   "cell_type": "code",
   "execution_count": null,
   "id": "e87393ab",
   "metadata": {},
   "outputs": [],
   "source": []
  }
 ],
 "metadata": {
  "kernelspec": {
   "display_name": "Python 3 (ipykernel)",
   "language": "python",
   "name": "python3"
  },
  "language_info": {
   "codemirror_mode": {
    "name": "ipython",
    "version": 3
   },
   "file_extension": ".py",
   "mimetype": "text/x-python",
   "name": "python",
   "nbconvert_exporter": "python",
   "pygments_lexer": "ipython3",
   "version": "3.9.13"
  }
 },
 "nbformat": 4,
 "nbformat_minor": 5
}
